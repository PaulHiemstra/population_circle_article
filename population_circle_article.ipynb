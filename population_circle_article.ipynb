{
 "cells": [
  {
   "cell_type": "markdown",
   "id": "c716f0d8-7bf3-4adb-9ae8-94072627b4e3",
   "metadata": {},
   "source": [
    "# Where is the population center of the world? \n",
    "*Where we find a circle on the globe where 50 percent of people live inside the circle*\n",
    "\n",
    "Much of the power in the world is concentrated in western countries like the US and Europe, making those places very prominent on the world stage. But where is the center of the world if we go by population numbers? Inspired by a [Real Life Lore youtube video](https://www.youtube.com/watch?v=mcqq8eAufXk) I went looking for the smallest circle one can draw on the Earth where 50 percent of people live inside the circle, and 50 percent outside. The center of that circle could be dubbed the population center of the world. \n",
    "\n",
    "In this article we will delve into a lot of geography related topics, on old passion of mine dating back to my days as a PhD. You will learn how to:\n",
    "\n",
    "- Read grid data into Python\n",
    "- Intersect a grid dataset with a polygon\n",
    "- Transform data between geographic projections\n",
    "- Draw circles across a round Earth on a flat map, also know as Great Cirle Distances\n",
    "\n",
    "In the next few sections I will slowly towards our solution, starting with the population data underlying all of our analyses. \n",
    "\n",
    "# The population source data\n",
    "At the core of our analysis is the population data. I chose to use a 1km grid population dataset that was [published on WorldPop](https://www.worldpop.org/doi/10.5258/SOTON/WP00647). This dataset was collated by a number of universities under a Bill and Melinda Gates Foundation grant. It covers the entire globe, and provides the amount of people living in a particluar gridcell: \n",
    "\n",
    "![](world_pop.png)\n",
    "\n",
    "I chose to use [the most recent dataset they provide](https://data.worldpop.org/GIS/Population/Global_2000_2020/2020/0_Mosaicked/ppp_2020_1km_Aggregated.tif), which is of 2020:"
   ]
  },
  {
   "cell_type": "code",
   "execution_count": 2,
   "id": "f88de48f-ef3a-492e-9343-d3e1af7cfb44",
   "metadata": {},
   "outputs": [
    {
     "data": {
      "text/plain": [
       "array([[-3.4028235e+38, -3.4028235e+38, -3.4028235e+38, ...,\n",
       "        -3.4028235e+38, -3.4028235e+38, -3.4028235e+38],\n",
       "       [-3.4028235e+38, -3.4028235e+38, -3.4028235e+38, ...,\n",
       "        -3.4028235e+38, -3.4028235e+38, -3.4028235e+38],\n",
       "       [-3.4028235e+38, -3.4028235e+38, -3.4028235e+38, ...,\n",
       "        -3.4028235e+38, -3.4028235e+38, -3.4028235e+38],\n",
       "       ...,\n",
       "       [-3.4028235e+38, -3.4028235e+38, -3.4028235e+38, ...,\n",
       "        -3.4028235e+38, -3.4028235e+38, -3.4028235e+38],\n",
       "       [-3.4028235e+38, -3.4028235e+38, -3.4028235e+38, ...,\n",
       "        -3.4028235e+38, -3.4028235e+38, -3.4028235e+38],\n",
       "       [-3.4028235e+38, -3.4028235e+38, -3.4028235e+38, ...,\n",
       "        -3.4028235e+38, -3.4028235e+38, -3.4028235e+38]], dtype=float32)"
      ]
     },
     "execution_count": 2,
     "metadata": {},
     "output_type": "execute_result"
    }
   ],
   "source": [
    "import rasterio\n",
    "import numpy as np\n",
    "\n",
    "population_raster = rasterio.open('data/ppp_2020_1km_Aggregated.tif')\n",
    "population_data = population_raster.read(1)\n",
    "population_data"
   ]
  },
  {
   "cell_type": "markdown",
   "id": "0df09786-2b52-401e-b948-02f4cc8624b0",
   "metadata": {},
   "source": [
    "The `read` command produces a numpy array with all the population data. A striking feature are all the `-3.4028235e+38` values, which the metadata of the file reveals to be NA values. This mostly covers the waterbodies, where nobody lives. Next we convert these values to proper NA values and sum up all the non-NA values:"
   ]
  },
  {
   "cell_type": "code",
   "execution_count": 5,
   "id": "8b5677f1-594e-4ded-b8b3-636f5624c24e",
   "metadata": {},
   "outputs": [
    {
     "data": {
      "text/plain": [
       "7.966754816"
      ]
     },
     "execution_count": 5,
     "metadata": {},
     "output_type": "execute_result"
    }
   ],
   "source": [
    "population_data[population_data == -3.4028234663852886e+38] = np.nan\n",
    "np.sum(population_data, where=~np.isnan(population_data)) / 1e9"
   ]
  },
  {
   "cell_type": "markdown",
   "id": "df205bee-7f88-4623-9530-ec4db3a67866",
   "metadata": {},
   "source": [
    "So according to the dataset, 7.9 billion people lived on the Earth in 2020. This is nicely in line with what I expected. For later use we repackage this code into a function that determines the total population size of a `.tif` grid file:"
   ]
  },
  {
   "cell_type": "code",
   "execution_count": 6,
   "id": "dc771f8b-55a0-49ac-bf94-1999b6c2f505",
   "metadata": {},
   "outputs": [
    {
     "data": {
      "text/plain": [
       "7966755000.0"
      ]
     },
     "execution_count": 6,
     "metadata": {},
     "output_type": "execute_result"
    }
   ],
   "source": [
    "def get_population(tif_file, na_value = -3.4028234663852886e+38):\n",
    "    population_raster = rasterio.open(tif_file)\n",
    "    population_data = population_raster.read(1)\n",
    "    population_data[population_data == na_value] = np.nan\n",
    "    return np.sum(population_data, where=~np.isnan(population_data))\n",
    "total_population = get_population('data/ppp_2020_1km_Aggregated.tif')\n",
    "total_population"
   ]
  },
  {
   "cell_type": "markdown",
   "id": "a30023d8-c612-4890-a285-f9862b97a6fc",
   "metadata": {},
   "source": [
    "# Boxing in the population data\n",
    "In our first step we added up all the population gridcells on the map. Obviously, in our quest to find the circle containing half the population we do not want to add up the entire map. As a first step we are going to determine the total population inside a small bounding box. To do this we are going to determine which of our gridcells is inside the box, and which is not. In geography jargon this is called intersecting the bounding box with the gridcells. First we construct the bounding box we are interested in:"
   ]
  },
  {
   "cell_type": "code",
   "execution_count": 30,
   "id": "a51a34f2-34a9-48af-973e-5c171d3631d8",
   "metadata": {},
   "outputs": [],
   "source": [
    "# Helper function to draw folium maps\n",
    "import folium\n",
    "\n",
    "def plot_folium(shape, center, zoom):\n",
    "    f = folium.Figure(width=800, height=800)\n",
    "    m = folium.Map(center, zoom_start=zoom, tiles='cartodbpositron').add_to(f)\n",
    "    folium.GeoJson(shape).add_to(m)\n",
    "    folium.LatLngPopup().add_to(m)\n",
    "    return m"
   ]
  },
  {
   "cell_type": "code",
   "execution_count": 32,
   "id": "95c07437-3531-4486-a7b2-5b9fc05458b8",
   "metadata": {},
   "outputs": [
    {
     "name": "stderr",
     "output_type": "stream",
     "text": [
      "/opt/conda/lib/python3.9/site-packages/pyproj/crs/crs.py:131: FutureWarning: '+init=<authority>:<code>' syntax is deprecated. '<authority>:<code>' is the preferred initialization method. When making the change, be mindful of axis order changes: https://pyproj4.github.io/pyproj/stable/gotchas.html#axis-order-changes-in-proj-6\n",
      "  in_crs_string = _prepare_from_proj_string(in_crs_string)\n"
     ]
    },
    {
     "data": {
      "text/html": [
       "<iframe src=\"about:blank\" width=\"800\" height=\"800\"style=\"border:none !important;\" data-html=%3C%21DOCTYPE%20html%3E%0A%3Chead%3E%20%20%20%20%0A%20%20%20%20%3Cmeta%20http-equiv%3D%22content-type%22%20content%3D%22text/html%3B%20charset%3DUTF-8%22%20/%3E%0A%20%20%20%20%0A%20%20%20%20%20%20%20%20%3Cscript%3E%0A%20%20%20%20%20%20%20%20%20%20%20%20L_NO_TOUCH%20%3D%20false%3B%0A%20%20%20%20%20%20%20%20%20%20%20%20L_DISABLE_3D%20%3D%20false%3B%0A%20%20%20%20%20%20%20%20%3C/script%3E%0A%20%20%20%20%0A%20%20%20%20%3Cstyle%3Ehtml%2C%20body%20%7Bwidth%3A%20100%25%3Bheight%3A%20100%25%3Bmargin%3A%200%3Bpadding%3A%200%3B%7D%3C/style%3E%0A%20%20%20%20%3Cstyle%3E%23map%20%7Bposition%3Aabsolute%3Btop%3A0%3Bbottom%3A0%3Bright%3A0%3Bleft%3A0%3B%7D%3C/style%3E%0A%20%20%20%20%3Cscript%20src%3D%22https%3A//cdn.jsdelivr.net/npm/leaflet%401.6.0/dist/leaflet.js%22%3E%3C/script%3E%0A%20%20%20%20%3Cscript%20src%3D%22https%3A//code.jquery.com/jquery-1.12.4.min.js%22%3E%3C/script%3E%0A%20%20%20%20%3Cscript%20src%3D%22https%3A//maxcdn.bootstrapcdn.com/bootstrap/3.2.0/js/bootstrap.min.js%22%3E%3C/script%3E%0A%20%20%20%20%3Cscript%20src%3D%22https%3A//cdnjs.cloudflare.com/ajax/libs/Leaflet.awesome-markers/2.0.2/leaflet.awesome-markers.js%22%3E%3C/script%3E%0A%20%20%20%20%3Clink%20rel%3D%22stylesheet%22%20href%3D%22https%3A//cdn.jsdelivr.net/npm/leaflet%401.6.0/dist/leaflet.css%22/%3E%0A%20%20%20%20%3Clink%20rel%3D%22stylesheet%22%20href%3D%22https%3A//maxcdn.bootstrapcdn.com/bootstrap/3.2.0/css/bootstrap.min.css%22/%3E%0A%20%20%20%20%3Clink%20rel%3D%22stylesheet%22%20href%3D%22https%3A//maxcdn.bootstrapcdn.com/bootstrap/3.2.0/css/bootstrap-theme.min.css%22/%3E%0A%20%20%20%20%3Clink%20rel%3D%22stylesheet%22%20href%3D%22https%3A//maxcdn.bootstrapcdn.com/font-awesome/4.6.3/css/font-awesome.min.css%22/%3E%0A%20%20%20%20%3Clink%20rel%3D%22stylesheet%22%20href%3D%22https%3A//cdnjs.cloudflare.com/ajax/libs/Leaflet.awesome-markers/2.0.2/leaflet.awesome-markers.css%22/%3E%0A%20%20%20%20%3Clink%20rel%3D%22stylesheet%22%20href%3D%22https%3A//cdn.jsdelivr.net/gh/python-visualization/folium/folium/templates/leaflet.awesome.rotate.min.css%22/%3E%0A%20%20%20%20%0A%20%20%20%20%20%20%20%20%20%20%20%20%3Cmeta%20name%3D%22viewport%22%20content%3D%22width%3Ddevice-width%2C%0A%20%20%20%20%20%20%20%20%20%20%20%20%20%20%20%20initial-scale%3D1.0%2C%20maximum-scale%3D1.0%2C%20user-scalable%3Dno%22%20/%3E%0A%20%20%20%20%20%20%20%20%20%20%20%20%3Cstyle%3E%0A%20%20%20%20%20%20%20%20%20%20%20%20%20%20%20%20%23map_3e3c6504249347788144833ea678f32a%20%7B%0A%20%20%20%20%20%20%20%20%20%20%20%20%20%20%20%20%20%20%20%20position%3A%20relative%3B%0A%20%20%20%20%20%20%20%20%20%20%20%20%20%20%20%20%20%20%20%20width%3A%20100.0%25%3B%0A%20%20%20%20%20%20%20%20%20%20%20%20%20%20%20%20%20%20%20%20height%3A%20100.0%25%3B%0A%20%20%20%20%20%20%20%20%20%20%20%20%20%20%20%20%20%20%20%20left%3A%200.0%25%3B%0A%20%20%20%20%20%20%20%20%20%20%20%20%20%20%20%20%20%20%20%20top%3A%200.0%25%3B%0A%20%20%20%20%20%20%20%20%20%20%20%20%20%20%20%20%7D%0A%20%20%20%20%20%20%20%20%20%20%20%20%3C/style%3E%0A%20%20%20%20%20%20%20%20%0A%3C/head%3E%0A%3Cbody%3E%20%20%20%20%0A%20%20%20%20%0A%20%20%20%20%20%20%20%20%20%20%20%20%3Cdiv%20class%3D%22folium-map%22%20id%3D%22map_3e3c6504249347788144833ea678f32a%22%20%3E%3C/div%3E%0A%20%20%20%20%20%20%20%20%0A%3C/body%3E%0A%3Cscript%3E%20%20%20%20%0A%20%20%20%20%0A%20%20%20%20%20%20%20%20%20%20%20%20var%20map_3e3c6504249347788144833ea678f32a%20%3D%20L.map%28%0A%20%20%20%20%20%20%20%20%20%20%20%20%20%20%20%20%22map_3e3c6504249347788144833ea678f32a%22%2C%0A%20%20%20%20%20%20%20%20%20%20%20%20%20%20%20%20%7B%0A%20%20%20%20%20%20%20%20%20%20%20%20%20%20%20%20%20%20%20%20center%3A%20%5B51.854457%2C%204.377184%5D%2C%0A%20%20%20%20%20%20%20%20%20%20%20%20%20%20%20%20%20%20%20%20crs%3A%20L.CRS.EPSG3857%2C%0A%20%20%20%20%20%20%20%20%20%20%20%20%20%20%20%20%20%20%20%20zoom%3A%207%2C%0A%20%20%20%20%20%20%20%20%20%20%20%20%20%20%20%20%20%20%20%20zoomControl%3A%20true%2C%0A%20%20%20%20%20%20%20%20%20%20%20%20%20%20%20%20%20%20%20%20preferCanvas%3A%20false%2C%0A%20%20%20%20%20%20%20%20%20%20%20%20%20%20%20%20%7D%0A%20%20%20%20%20%20%20%20%20%20%20%20%29%3B%0A%0A%20%20%20%20%20%20%20%20%20%20%20%20%0A%0A%20%20%20%20%20%20%20%20%0A%20%20%20%20%0A%20%20%20%20%20%20%20%20%20%20%20%20var%20tile_layer_da20e3ae65b541fdbbb5ccfecb8a1711%20%3D%20L.tileLayer%28%0A%20%20%20%20%20%20%20%20%20%20%20%20%20%20%20%20%22https%3A//cartodb-basemaps-%7Bs%7D.global.ssl.fastly.net/light_all/%7Bz%7D/%7Bx%7D/%7By%7D.png%22%2C%0A%20%20%20%20%20%20%20%20%20%20%20%20%20%20%20%20%7B%22attribution%22%3A%20%22%5Cu0026copy%3B%20%5Cu003ca%20href%3D%5C%22http%3A//www.openstreetmap.org/copyright%5C%22%5Cu003eOpenStreetMap%5Cu003c/a%5Cu003e%20contributors%20%5Cu0026copy%3B%20%5Cu003ca%20href%3D%5C%22http%3A//cartodb.com/attributions%5C%22%5Cu003eCartoDB%5Cu003c/a%5Cu003e%2C%20CartoDB%20%5Cu003ca%20href%20%3D%5C%22http%3A//cartodb.com/attributions%5C%22%5Cu003eattributions%5Cu003c/a%5Cu003e%22%2C%20%22detectRetina%22%3A%20false%2C%20%22maxNativeZoom%22%3A%2018%2C%20%22maxZoom%22%3A%2018%2C%20%22minZoom%22%3A%200%2C%20%22noWrap%22%3A%20false%2C%20%22opacity%22%3A%201%2C%20%22subdomains%22%3A%20%22abc%22%2C%20%22tms%22%3A%20false%7D%0A%20%20%20%20%20%20%20%20%20%20%20%20%29.addTo%28map_3e3c6504249347788144833ea678f32a%29%3B%0A%20%20%20%20%20%20%20%20%0A%20%20%20%20%0A%0A%20%20%20%20%20%20%20%20function%20geo_json_e136afc8de7347f8b8bccdf0c8f10aae_onEachFeature%28feature%2C%20layer%29%20%7B%0A%20%20%20%20%20%20%20%20%20%20%20%20layer.on%28%7B%0A%20%20%20%20%20%20%20%20%20%20%20%20%7D%29%3B%0A%20%20%20%20%20%20%20%20%7D%3B%0A%20%20%20%20%20%20%20%20var%20geo_json_e136afc8de7347f8b8bccdf0c8f10aae%20%3D%20L.geoJson%28null%2C%20%7B%0A%20%20%20%20%20%20%20%20%20%20%20%20%20%20%20%20onEachFeature%3A%20geo_json_e136afc8de7347f8b8bccdf0c8f10aae_onEachFeature%2C%0A%20%20%20%20%20%20%20%20%20%20%20%20%0A%20%20%20%20%20%20%20%20%7D%29%3B%0A%0A%20%20%20%20%20%20%20%20function%20geo_json_e136afc8de7347f8b8bccdf0c8f10aae_add%20%28data%29%20%7B%0A%20%20%20%20%20%20%20%20%20%20%20%20geo_json_e136afc8de7347f8b8bccdf0c8f10aae%0A%20%20%20%20%20%20%20%20%20%20%20%20%20%20%20%20.addData%28data%29%0A%20%20%20%20%20%20%20%20%20%20%20%20%20%20%20%20.addTo%28map_3e3c6504249347788144833ea678f32a%29%3B%0A%20%20%20%20%20%20%20%20%7D%0A%20%20%20%20%20%20%20%20%20%20%20%20geo_json_e136afc8de7347f8b8bccdf0c8f10aae_add%28%7B%22bbox%22%3A%20%5B3.31497114423%2C%2050.803721015%2C%207.09205325687%2C%2053.5104033474%5D%2C%20%22features%22%3A%20%5B%7B%22bbox%22%3A%20%5B3.31497114423%2C%2050.803721015%2C%207.09205325687%2C%2053.5104033474%5D%2C%20%22geometry%22%3A%20%7B%22coordinates%22%3A%20%5B%5B%5B3.31497114423%2C%2053.5104033474%5D%2C%20%5B7.09205325687%2C%2053.5104033474%5D%2C%20%5B7.09205325687%2C%2050.803721015%5D%2C%20%5B3.31497114423%2C%2050.803721015%5D%2C%20%5B3.31497114423%2C%2053.5104033474%5D%5D%5D%2C%20%22type%22%3A%20%22Polygon%22%7D%2C%20%22id%22%3A%20%220%22%2C%20%22properties%22%3A%20%7B%7D%2C%20%22type%22%3A%20%22Feature%22%7D%5D%2C%20%22type%22%3A%20%22FeatureCollection%22%7D%29%3B%0A%0A%20%20%20%20%20%20%20%20%0A%20%20%20%20%0A%20%20%20%20%20%20%20%20%20%20%20%20%20%20%20%20var%20lat_lng_popup_b885d1e24d1e40b7ae452beadc296a7e%20%3D%20L.popup%28%29%3B%0A%20%20%20%20%20%20%20%20%20%20%20%20%20%20%20%20function%20latLngPop%28e%29%20%7B%0A%20%20%20%20%20%20%20%20%20%20%20%20%20%20%20%20%20%20%20%20lat_lng_popup_b885d1e24d1e40b7ae452beadc296a7e%0A%20%20%20%20%20%20%20%20%20%20%20%20%20%20%20%20%20%20%20%20%20%20%20%20.setLatLng%28e.latlng%29%0A%20%20%20%20%20%20%20%20%20%20%20%20%20%20%20%20%20%20%20%20%20%20%20%20.setContent%28%22Latitude%3A%20%22%20%2B%20e.latlng.lat.toFixed%284%29%20%2B%0A%20%20%20%20%20%20%20%20%20%20%20%20%20%20%20%20%20%20%20%20%20%20%20%20%20%20%20%20%20%20%20%20%20%20%20%20%22%3Cbr%3ELongitude%3A%20%22%20%2B%20e.latlng.lng.toFixed%284%29%29%0A%20%20%20%20%20%20%20%20%20%20%20%20%20%20%20%20%20%20%20%20%20%20%20%20.openOn%28map_3e3c6504249347788144833ea678f32a%29%3B%0A%20%20%20%20%20%20%20%20%20%20%20%20%20%20%20%20%20%20%20%20%7D%0A%20%20%20%20%20%20%20%20%20%20%20%20%20%20%20%20map_3e3c6504249347788144833ea678f32a.on%28%27click%27%2C%20latLngPop%29%3B%0A%20%20%20%20%20%20%20%20%20%20%20%20%0A%3C/script%3E onload=\"this.contentDocument.open();this.contentDocument.write(    decodeURIComponent(this.getAttribute('data-html')));this.contentDocument.close();\" \"allowfullscreen\" \"webkitallowfullscreen\" \"mozallowfullscreen\"></iframe>"
      ],
      "text/plain": [
       "<folium.folium.Map at 0x7f1309e6f0a0>"
      ]
     },
     "execution_count": 32,
     "metadata": {},
     "output_type": "execute_result"
    }
   ],
   "source": [
    "# https://gis.stackexchange.com/questions/294206/create-a-polygon-from-coordinates-in-geopandas-with-python\n",
    "# Bbox from https://gist.github.com/graydon/11198540: (3.31497114423, 50.803721015, 7.09205325687, 53.5104033474)\n",
    "# The points are from top left, clockwise\n",
    "\n",
    "import geopandas as gpd\n",
    "from shapely.geometry import Polygon\n",
    "\n",
    "lat_point_list = [53.5104033474, 53.5104033474, 50.803721015, 50.803721015]\n",
    "lon_point_list = [3.31497114423, 7.09205325687, 7.09205325687, 3.31497114423]\n",
    "\n",
    "polygon_geom = Polygon(zip(lon_point_list, lat_point_list))\n",
    "crs = {'init': 'epsg:4326'}\n",
    "bbox_nl = gpd.GeoDataFrame(index=[0], crs=crs, geometry=[polygon_geom])  \n",
    "\n",
    "plot_folium(bbox_nl, [51.854457, 4.377184], 7)"
   ]
  },
  {
   "cell_type": "markdown",
   "id": "bd57ac28-fa0a-4bbb-8ce9-622a9f3c4b4e",
   "metadata": {},
   "source": [
    "which nicely shows that we are using the bounding box of the Netherlands as our first target. \n",
    "\n",
    "The first solution [I explored](https://gis.stackexchange.com/questions/388047/get-coordinates-of-all-pixels-in-a-raster-with-rasterio) involved converting each of the gridcells to a geographic point, and performing the intersection between the box and the points. The issue with this solution is that it takes an enormous amount of RAM, and my Python session would simply crash each time I tried to generate the points. To remedy the situation, I chose to outsource the work to GDAL. GDAL is a geospatial processing library with bindings for Python. \n",
    "\n",
    "In GDAL I can use the warp tool to perform the required analysis. This however expects all the input data to be files on disk. So  first we have to save the bounding box to disk, and then we can call GDAL:"
   ]
  },
  {
   "cell_type": "code",
   "execution_count": 12,
   "id": "3a59c718-9b86-4c3f-a10a-5693f050d43f",
   "metadata": {},
   "outputs": [],
   "source": [
    "from osgeo import gdal\n",
    "\n",
    "bbox_nl.to_file(filename='tmp/bbox_nl.shp', driver=\"ESRI Shapefile\")\n",
    "ds = gdal.Warp('tmp/bbox_nl.tif', 'data/ppp_2020_1km_Aggregated.tif', cutlineDSName='tmp/bbox_nl.shp', cropToCutline=True)\n",
    "del ds"
   ]
  },
  {
   "cell_type": "markdown",
   "id": "7cb943c4-acbd-47d2-a998-aaac4961d0ce",
   "metadata": {},
   "source": [
    "Here we use the cutline ability of Warp to cut down our grid to only the gridcells inside the bounding box, and dumping that result as a new tif file. After that, we can simply use our `get_population` function to calculate the total number of people living inside the box:"
   ]
  },
  {
   "cell_type": "code",
   "execution_count": 13,
   "id": "1b2795ab-18d3-4dca-8af7-166a8bc6a45b",
   "metadata": {},
   "outputs": [
    {
     "data": {
      "text/plain": [
       "31.186402"
      ]
     },
     "execution_count": 13,
     "metadata": {},
     "output_type": "execute_result"
    }
   ],
   "source": [
    "get_population('tmp/bbox_nl.tif') / 1e6"
   ]
  },
  {
   "cell_type": "markdown",
   "id": "d0d0cb15-ba1c-42eb-aef3-4a7273e12b03",
   "metadata": {},
   "source": [
    "which shows that 31 million people live inside the box. This nicely aligns with the 17 million people living in the Netherlands, combined with the population centers in Belgium and Germany that also fall into the box. For convinience we wrap these steps into a new function for later use:"
   ]
  },
  {
   "cell_type": "code",
   "execution_count": 29,
   "id": "a7e2079b-4a6f-417d-9533-03f97f8d3cf6",
   "metadata": {},
   "outputs": [
    {
     "data": {
      "text/plain": [
       "31.186402"
      ]
     },
     "execution_count": 29,
     "metadata": {},
     "output_type": "execute_result"
    }
   ],
   "source": [
    "def get_population_in_shape(shape_obj):\n",
    "    shape_obj.to_file(filename='tmp/tmp.shp', driver=\"ESRI Shapefile\")\n",
    "    ds = gdal.Warp('tmp/tmp.tif', 'data/ppp_2020_1km_Aggregated.tif', cutlineDSName='tmp/tmp.shp', cropToCutline=True)\n",
    "    del ds\n",
    "    return get_population('tmp/tmp.tif')\n",
    "get_population_in_shape(bbox_nl) / 1e6"
   ]
  },
  {
   "cell_type": "markdown",
   "id": "6e2c9886-56c3-42f5-9642-c610515fabf8",
   "metadata": {},
   "source": [
    "# Upgrading the box to a circle\n",
    "But our challenge was to perform this operation with a circle, not a box. Luckily, the entire workflow given above is not limited to a box shape, but works for any polygon type shape. So, our next challenge is to construct a circle around a specific center point with a particular radius. \n",
    "\n",
    "A problem here is that the population grid we use is defined in latitude-longitude coordinates. This projection of a round Earth on a flat plane prevents us from simply drawing circles on the map. The [solution I found](https://gis.stackexchange.com/questions/121256/creating-a-circle-with-radius-in-metres) takes the lat-lon center point we provide and reprojects it to a projection that works with meters distance. Then we construct a circle in that projection, and project the circle back to latitude-longitude (WGS84):"
   ]
  },
  {
   "cell_type": "code",
   "execution_count": 34,
   "id": "bd7d73ce-415a-4dc0-bdd6-49ec299c2a75",
   "metadata": {},
   "outputs": [
    {
     "data": {
      "text/html": [
       "<iframe src=\"about:blank\" width=\"800\" height=\"800\"style=\"border:none !important;\" data-html=%3C%21DOCTYPE%20html%3E%0A%3Chead%3E%20%20%20%20%0A%20%20%20%20%3Cmeta%20http-equiv%3D%22content-type%22%20content%3D%22text/html%3B%20charset%3DUTF-8%22%20/%3E%0A%20%20%20%20%0A%20%20%20%20%20%20%20%20%3Cscript%3E%0A%20%20%20%20%20%20%20%20%20%20%20%20L_NO_TOUCH%20%3D%20false%3B%0A%20%20%20%20%20%20%20%20%20%20%20%20L_DISABLE_3D%20%3D%20false%3B%0A%20%20%20%20%20%20%20%20%3C/script%3E%0A%20%20%20%20%0A%20%20%20%20%3Cstyle%3Ehtml%2C%20body%20%7Bwidth%3A%20100%25%3Bheight%3A%20100%25%3Bmargin%3A%200%3Bpadding%3A%200%3B%7D%3C/style%3E%0A%20%20%20%20%3Cstyle%3E%23map%20%7Bposition%3Aabsolute%3Btop%3A0%3Bbottom%3A0%3Bright%3A0%3Bleft%3A0%3B%7D%3C/style%3E%0A%20%20%20%20%3Cscript%20src%3D%22https%3A//cdn.jsdelivr.net/npm/leaflet%401.6.0/dist/leaflet.js%22%3E%3C/script%3E%0A%20%20%20%20%3Cscript%20src%3D%22https%3A//code.jquery.com/jquery-1.12.4.min.js%22%3E%3C/script%3E%0A%20%20%20%20%3Cscript%20src%3D%22https%3A//maxcdn.bootstrapcdn.com/bootstrap/3.2.0/js/bootstrap.min.js%22%3E%3C/script%3E%0A%20%20%20%20%3Cscript%20src%3D%22https%3A//cdnjs.cloudflare.com/ajax/libs/Leaflet.awesome-markers/2.0.2/leaflet.awesome-markers.js%22%3E%3C/script%3E%0A%20%20%20%20%3Clink%20rel%3D%22stylesheet%22%20href%3D%22https%3A//cdn.jsdelivr.net/npm/leaflet%401.6.0/dist/leaflet.css%22/%3E%0A%20%20%20%20%3Clink%20rel%3D%22stylesheet%22%20href%3D%22https%3A//maxcdn.bootstrapcdn.com/bootstrap/3.2.0/css/bootstrap.min.css%22/%3E%0A%20%20%20%20%3Clink%20rel%3D%22stylesheet%22%20href%3D%22https%3A//maxcdn.bootstrapcdn.com/bootstrap/3.2.0/css/bootstrap-theme.min.css%22/%3E%0A%20%20%20%20%3Clink%20rel%3D%22stylesheet%22%20href%3D%22https%3A//maxcdn.bootstrapcdn.com/font-awesome/4.6.3/css/font-awesome.min.css%22/%3E%0A%20%20%20%20%3Clink%20rel%3D%22stylesheet%22%20href%3D%22https%3A//cdnjs.cloudflare.com/ajax/libs/Leaflet.awesome-markers/2.0.2/leaflet.awesome-markers.css%22/%3E%0A%20%20%20%20%3Clink%20rel%3D%22stylesheet%22%20href%3D%22https%3A//cdn.jsdelivr.net/gh/python-visualization/folium/folium/templates/leaflet.awesome.rotate.min.css%22/%3E%0A%20%20%20%20%0A%20%20%20%20%20%20%20%20%20%20%20%20%3Cmeta%20name%3D%22viewport%22%20content%3D%22width%3Ddevice-width%2C%0A%20%20%20%20%20%20%20%20%20%20%20%20%20%20%20%20initial-scale%3D1.0%2C%20maximum-scale%3D1.0%2C%20user-scalable%3Dno%22%20/%3E%0A%20%20%20%20%20%20%20%20%20%20%20%20%3Cstyle%3E%0A%20%20%20%20%20%20%20%20%20%20%20%20%20%20%20%20%23map_3dc7d01cc23c4c4d8162e646590f6bed%20%7B%0A%20%20%20%20%20%20%20%20%20%20%20%20%20%20%20%20%20%20%20%20position%3A%20relative%3B%0A%20%20%20%20%20%20%20%20%20%20%20%20%20%20%20%20%20%20%20%20width%3A%20100.0%25%3B%0A%20%20%20%20%20%20%20%20%20%20%20%20%20%20%20%20%20%20%20%20height%3A%20100.0%25%3B%0A%20%20%20%20%20%20%20%20%20%20%20%20%20%20%20%20%20%20%20%20left%3A%200.0%25%3B%0A%20%20%20%20%20%20%20%20%20%20%20%20%20%20%20%20%20%20%20%20top%3A%200.0%25%3B%0A%20%20%20%20%20%20%20%20%20%20%20%20%20%20%20%20%7D%0A%20%20%20%20%20%20%20%20%20%20%20%20%3C/style%3E%0A%20%20%20%20%20%20%20%20%0A%3C/head%3E%0A%3Cbody%3E%20%20%20%20%0A%20%20%20%20%0A%20%20%20%20%20%20%20%20%20%20%20%20%3Cdiv%20class%3D%22folium-map%22%20id%3D%22map_3dc7d01cc23c4c4d8162e646590f6bed%22%20%3E%3C/div%3E%0A%20%20%20%20%20%20%20%20%0A%3C/body%3E%0A%3Cscript%3E%20%20%20%20%0A%20%20%20%20%0A%20%20%20%20%20%20%20%20%20%20%20%20var%20map_3dc7d01cc23c4c4d8162e646590f6bed%20%3D%20L.map%28%0A%20%20%20%20%20%20%20%20%20%20%20%20%20%20%20%20%22map_3dc7d01cc23c4c4d8162e646590f6bed%22%2C%0A%20%20%20%20%20%20%20%20%20%20%20%20%20%20%20%20%7B%0A%20%20%20%20%20%20%20%20%20%20%20%20%20%20%20%20%20%20%20%20center%3A%20%5B63.0%2C%20-45.0%5D%2C%0A%20%20%20%20%20%20%20%20%20%20%20%20%20%20%20%20%20%20%20%20crs%3A%20L.CRS.EPSG3857%2C%0A%20%20%20%20%20%20%20%20%20%20%20%20%20%20%20%20%20%20%20%20zoom%3A%202%2C%0A%20%20%20%20%20%20%20%20%20%20%20%20%20%20%20%20%20%20%20%20zoomControl%3A%20true%2C%0A%20%20%20%20%20%20%20%20%20%20%20%20%20%20%20%20%20%20%20%20preferCanvas%3A%20false%2C%0A%20%20%20%20%20%20%20%20%20%20%20%20%20%20%20%20%7D%0A%20%20%20%20%20%20%20%20%20%20%20%20%29%3B%0A%0A%20%20%20%20%20%20%20%20%20%20%20%20%0A%0A%20%20%20%20%20%20%20%20%0A%20%20%20%20%0A%20%20%20%20%20%20%20%20%20%20%20%20var%20tile_layer_736eeb6c786346a793b963335f38a943%20%3D%20L.tileLayer%28%0A%20%20%20%20%20%20%20%20%20%20%20%20%20%20%20%20%22https%3A//cartodb-basemaps-%7Bs%7D.global.ssl.fastly.net/light_all/%7Bz%7D/%7Bx%7D/%7By%7D.png%22%2C%0A%20%20%20%20%20%20%20%20%20%20%20%20%20%20%20%20%7B%22attribution%22%3A%20%22%5Cu0026copy%3B%20%5Cu003ca%20href%3D%5C%22http%3A//www.openstreetmap.org/copyright%5C%22%5Cu003eOpenStreetMap%5Cu003c/a%5Cu003e%20contributors%20%5Cu0026copy%3B%20%5Cu003ca%20href%3D%5C%22http%3A//cartodb.com/attributions%5C%22%5Cu003eCartoDB%5Cu003c/a%5Cu003e%2C%20CartoDB%20%5Cu003ca%20href%20%3D%5C%22http%3A//cartodb.com/attributions%5C%22%5Cu003eattributions%5Cu003c/a%5Cu003e%22%2C%20%22detectRetina%22%3A%20false%2C%20%22maxNativeZoom%22%3A%2018%2C%20%22maxZoom%22%3A%2018%2C%20%22minZoom%22%3A%200%2C%20%22noWrap%22%3A%20false%2C%20%22opacity%22%3A%201%2C%20%22subdomains%22%3A%20%22abc%22%2C%20%22tms%22%3A%20false%7D%0A%20%20%20%20%20%20%20%20%20%20%20%20%29.addTo%28map_3dc7d01cc23c4c4d8162e646590f6bed%29%3B%0A%20%20%20%20%20%20%20%20%0A%20%20%20%20%0A%0A%20%20%20%20%20%20%20%20function%20geo_json_d9b4fdcb440c44ccaa7e8b76d5199d17_onEachFeature%28feature%2C%20layer%29%20%7B%0A%20%20%20%20%20%20%20%20%20%20%20%20layer.on%28%7B%0A%20%20%20%20%20%20%20%20%20%20%20%20%7D%29%3B%0A%20%20%20%20%20%20%20%20%7D%3B%0A%20%20%20%20%20%20%20%20var%20geo_json_d9b4fdcb440c44ccaa7e8b76d5199d17%20%3D%20L.geoJson%28null%2C%20%7B%0A%20%20%20%20%20%20%20%20%20%20%20%20%20%20%20%20onEachFeature%3A%20geo_json_d9b4fdcb440c44ccaa7e8b76d5199d17_onEachFeature%2C%0A%20%20%20%20%20%20%20%20%20%20%20%20%0A%20%20%20%20%20%20%20%20%7D%29%3B%0A%0A%20%20%20%20%20%20%20%20function%20geo_json_d9b4fdcb440c44ccaa7e8b76d5199d17_add%20%28data%29%20%7B%0A%20%20%20%20%20%20%20%20%20%20%20%20geo_json_d9b4fdcb440c44ccaa7e8b76d5199d17%0A%20%20%20%20%20%20%20%20%20%20%20%20%20%20%20%20.addData%28data%29%0A%20%20%20%20%20%20%20%20%20%20%20%20%20%20%20%20.addTo%28map_3dc7d01cc23c4c4d8162e646590f6bed%29%3B%0A%20%20%20%20%20%20%20%20%7D%0A%20%20%20%20%20%20%20%20%20%20%20%20geo_json_d9b4fdcb440c44ccaa7e8b76d5199d17_add%28%7B%22bbox%22%3A%20%5B-93.21011939680268%2C%2043.21492466978792%2C%203.21011939680266%2C%2082.78507533021202%5D%2C%20%22features%22%3A%20%5B%7B%22bbox%22%3A%20%5B-93.21011939680268%2C%2043.21492466978792%2C%203.21011939680266%2C%2082.78507533021202%5D%2C%20%22geometry%22%3A%20%7B%22coordinates%22%3A%20%5B%5B%5B-6.60779102230319%2C%2056.97254527245765%5D%2C%20%5B-7.094272757063462%2C%2056.57818195371484%5D%2C%20%5B-7.587042516572149%2C%2056.18812353637506%5D%2C%20%5B-8.085887188667167%2C%2055.80245338429428%5D%2C%20%5B-8.590604545677973%2C%2055.42125376324955%5D%2C%20%5B-9.10100243589694%2C%2055.04460587277341%5D%2C%20%5B-9.616898037672645%2C%2054.67258987307337%5D%2C%20%5B-10.138117170609357%2C%2054.30528490744098%5D%2C%20%5B-10.66449365890623%2C%2053.942769120516196%5D%2C%20%5B-11.195868742359293%2C%2053.585119672737896%5D%2C%20%5B-11.732090530986966%2C%2053.232412751281096%5D%2C%20%5B-12.273013499630624%2C%2052.884723577754485%5D%2C%20%5B-12.818498019231185%2C%2052.54212641290816%5D%2C%20%5B-13.368409921796864%2C%2052.20469455858014%5D%2C%20%5B-13.922620096357605%2C%2051.872500357091695%5D%2C%20%5B-14.481004113453672%2C%2051.54561518828539%5D%2C%20%5B-15.043441875933054%2C%2051.224109464384355%5D%2C%20%5B-15.609817294035338%2C%2050.908052622839136%5D%2C%20%5B-16.180017982923257%2C%2050.597513117316694%5D%2C%20%5B-16.753934980988415%2C%2050.29255840697578%5D%2C%20%5B-17.33146248740572%2C%2049.993254944164256%5D%2C%20%5B-17.91249761754608%2C%2049.699668160666036%5D%2C%20%5B-18.496940174977553%2C%2049.411862452617626%5D%2C%20%5B-19.084692438894432%2C%2049.12990116420898%5D%2C%20%5B-19.6756589659132%2C%2048.85384657027684%5D%2C%20%5B-20.269746405262794%2C%2048.58375985789463%5D%2C%20%5B-20.86686332647818%2C%2048.319701107057966%5D%2C%20%5B-21.466920058779067%2C%2048.06172927056148%5D%2C%20%5B-22.069828541381778%2C%2047.80990215315868%5D%2C%20%5B-22.67550218405222%2C%2047.56427639009386%5D%2C%20%5B-23.283855737262435%2C%2047.32490742509204%5D%2C%20%5B-23.894805171361735%2C%2047.0918494878904%5D%2C%20%5B-24.508267564218677%2C%2046.86515557139253%5D%2C%20%5B-25.124160996829595%2C%2046.64487740852445%5D%2C%20%5B-25.742404456426545%2C%2046.43106544886962%5D%2C%20%5B-26.362917746649885%2C%2046.22376883515806%5D%2C%20%5B-26.985621404380947%2C%2046.02303537968348%5D%2C%20%5B-27.610436622856856%2C%2045.828911540719815%5D%2C%20%5B-28.237285180714043%2C%2045.641442399007914%5D%2C%20%5B-28.866089376628885%2C%2045.46067163438076%5D%2C%20%5B-29.49677196924356%2C%2045.2866415025945%5D%2C%20%5B-30.129256122083294%2C%2045.119392812430746%5D%2C%20%5B-30.76346535318658%2C%2044.95896490313427%5D%2C%20%5B-31.39932348918503%2C%2044.8053956222481%5D%2C%20%5B-32.036754623581835%2C%2044.65872130390706%5D%2C%20%5B-32.675683078989564%2C%2044.51897674764842%5D%2C%20%5B-33.316033373098236%2C%2044.38619519779684%5D%2C%20%5B-33.957730188153874%2C%2044.26040832347891%5D%2C%20%5B-34.60069834373566%2C%2044.141646199320675%5D%2C%20%5B-35.24486277262732%2C%2044.02993728687933%5D%2C%20%5B-35.89014849958463%2C%2043.92530841685835%5D%2C%20%5B-36.536480622806515%2C%2043.8277847721531%5D%2C%20%5B-37.183784297922195%2C%2043.737389871771626%5D%2C%20%5B-37.831984724311425%2C%2043.65414555567284%5D%2C%20%5B-38.4810071335783%2C%2043.578071970562306%5D%2C%20%5B-39.130776780002634%2C%2043.5091875566825%5D%2C%20%5B-39.78121893279571%2C%2043.447509035632734%5D%2C%20%5B-40.432258869989866%2C%2043.393051399250325%5D%2C%20%5B-41.08382187379302%2C%2043.34582789958241%5D%2C%20%5B-41.735833227241606%2C%2043.30585003997471%5D%2C%20%5B-42.38821821198648%2C%2043.27312756730046%5D%2C%20%5B-43.040902107047856%2C%2043.247668465350195%5D%2C%20%5B-43.69381018837633%2C%2043.22947894939949%5D%2C%20%5B-44.34686772905766%2C%2043.21856346196899%5D%2C%20%5B-44.99999999999996%2C%2043.21492466978792%5D%2C%20%5B-45.65313227094225%2C%2043.21856346196899%5D%2C%20%5B-46.30618981162358%2C%2043.22947894939949%5D%2C%20%5B-46.95909789295206%2C%2043.247668465350195%5D%2C%20%5B-47.611781788013445%2C%2043.273127567300456%5D%2C%20%5B-48.26416677275831%2C%2043.3058500399747%5D%2C%20%5B-48.91617812620689%2C%2043.34582789958241%5D%2C%20%5B-49.56774113001005%2C%2043.39305139925032%5D%2C%20%5B-50.218781067204205%2C%2043.44750903563273%5D%2C%20%5B-50.86922321999728%2C%2043.509187556682484%5D%2C%20%5B-51.518992866421605%2C%2043.57807197056229%5D%2C%20%5B-52.16801527568848%2C%2043.65414555567284%5D%2C%20%5B-52.81621570207772%2C%2043.73738987177162%5D%2C%20%5B-53.46351937719339%2C%2043.82778477215309%5D%2C%20%5B-54.109851500415274%2C%2043.92530841685833%5D%2C%20%5B-54.75513722737259%2C%2044.02993728687931%5D%2C%20%5B-55.39930165626426%2C%2044.14164619932066%5D%2C%20%5B-56.04226981184604%2C%2044.26040832347889%5D%2C%20%5B-56.68396662690168%2C%2044.386195197796816%5D%2C%20%5B-57.32431692101036%2C%2044.51897674764841%5D%2C%20%5B-57.96324537641808%2C%2044.658721303907036%5D%2C%20%5B-58.600676510814885%2C%2044.80539562224807%5D%2C%20%5B-59.236534646813325%2C%2044.958964903134245%5D%2C%20%5B-59.87074387791663%2C%2045.11939281243073%5D%2C%20%5B-60.50322803075636%2C%2045.28664150259447%5D%2C%20%5B-61.13391062337104%2C%2045.46067163438074%5D%2C%20%5B-61.76271481928587%2C%2045.641442399007886%5D%2C%20%5B-62.38956337714305%2C%2045.82891154071978%5D%2C%20%5B-63.01437859561897%2C%2046.02303537968345%5D%2C%20%5B-63.63708225335004%2C%2046.22376883515803%5D%2C%20%5B-64.25759554357337%2C%2046.43106544886958%5D%2C%20%5B-64.87583900317033%2C%2046.64487740852444%5D%2C%20%5B-65.49173243578124%2C%2046.8651555713925%5D%2C%20%5B-66.10519482863818%2C%2047.09184948789037%5D%2C%20%5B-66.7161442627375%2C%2047.324907425092015%5D%2C%20%5B-67.3244978159477%2C%2047.56427639009384%5D%2C%20%5B-67.93017145861815%2C%2047.809902153158646%5D%2C%20%5B-68.53307994122085%2C%2048.061729270561436%5D%2C%20%5B-69.13313667352175%2C%2048.319701107057924%5D%2C%20%5B-69.73025359473712%2C%2048.583759857894584%5D%2C%20%5B-70.32434103408671%2C%2048.85384657027681%5D%2C%20%5B-70.9153075611055%2C%2049.12990116420894%5D%2C%20%5B-71.50305982502236%2C%2049.411862452617584%5D%2C%20%5B-72.08750238245383%2C%2049.699668160666%5D%2C%20%5B-72.6685375125942%2C%2049.99325494416422%5D%2C%20%5B-73.24606501901151%2C%2050.292558406975736%5D%2C%20%5B-73.81998201707667%2C%2050.59751311731667%5D%2C%20%5B-74.3901827059646%2C%2050.9080526228391%5D%2C%20%5B-74.95655812406686%2C%2051.224109464384306%5D%2C%20%5B-75.51899588654624%2C%2051.54561518828535%5D%2C%20%5B-76.07737990364232%2C%2051.87250035709165%5D%2C%20%5B-76.63159007820306%2C%2052.20469455858009%5D%2C%20%5B-77.18150198076874%2C%2052.54212641290812%5D%2C%20%5B-77.7269865003693%2C%2052.88472357775445%5D%2C%20%5B-78.26790946901296%2C%2053.23241275128106%5D%2C%20%5B-78.80413125764066%2C%2053.585119672737854%5D%2C%20%5B-79.33550634109369%2C%2053.94276912051616%5D%2C%20%5B-79.86188282939055%2C%2054.30528490744092%5D%2C%20%5B-80.38310196232729%2C%2054.67258987307331%5D%2C%20%5B-80.89899756410298%2C%2055.04460587277337%5D%2C%20%5B-81.40939545432195%2C%2055.421253763249496%5D%2C%20%5B-81.91411281133277%2C%2055.80245338429423%5D%2C%20%5B-82.41295748342779%2C%2056.18812353637501%5D%2C%20%5B-82.90572724293648%2C%2056.5781819537148%5D%2C%20%5B-83.39220897769674%2C%2056.9725452724576%5D%2C%20%5B-83.87217781377244%2C%2057.371128993470286%5D%2C%20%5B-84.34539616259262%2C%2057.773847439281155%5D%2C%20%5B-84.81161268490986%2C%2058.18061370459908%5D%2C%20%5B-85.27056116309687%2C%2058.59133959979184%5D%2C%20%5B-85.72195927231408%2C%2059.0059355866283%5D%2C%20%5B-86.16550723996352%2C%2059.424310705505064%5D%2C%20%5B-86.60088638158565%2C%2059.84637249328155%5D%2C%20%5B-87.02775749993047%2C%2060.27202689073843%5D%2C%20%5B-87.44575913232103%2C%2060.701178138547995%5D%2C%20%5B-87.85450562960061%2C%2061.13372866050145%5D%2C%20%5B-88.25358504788049%2C%2061.56957893257317%5D%2C%20%5B-88.6425568319539%2C%2062.00862733621205%5D%2C%20%5B-89.02094926656648%2C%2062.45076999403212%5D%2C%20%5B-89.38825666869498%2C%2062.89590058582337%5D%2C%20%5B-89.74393629052726%2C%2063.34391014251315%5D%2C%20%5B-90.08740489890016%2C%2063.79468681537387%5D%2C%20%5B-90.41803499247045%2C%2064.24811561738413%5D%2C%20%5B-90.73515061278847%2C%2064.70407813320055%5D%2C%20%5B-91.03802269963293%2C%2065.16245219367487%5D%2C%20%5B-91.32586393434724%2C%2065.62311151024328%5D%2C%20%5B-91.59782300739258%2C%2066.08592526380637%5D%2C%20%5B-91.85297823777955%2C%2066.55075764189283%5D%2C%20%5B-92.09033046234121%2C%2067.01746731693461%5D%2C%20%5B-92.30879510183172%2C%2067.48590685735313%5D%2C%20%5B-92.50719329845515%2C%2067.95592206183454%5D%2C%20%5B-92.68424200552468%2C%2068.42735120562334%5D%2C%20%5B-92.83854289443188%2C%2068.90002418584605%5D%2C%20%5B-92.96856992691895%2C%2069.373761550745%5D%2C%20%5B-93.07265542181644%2C%2069.84837339519724%5D%2C%20%5B-93.14897442509074%2C%2070.32365810195581%5D%2C%20%5B-93.19552717057746%2C%2070.79940090460295%5D%2C%20%5B-93.21011939680268%2C%2071.27537224416739%5D%2C%20%5B-93.19034026388894%2C%2071.75132588663834%5D%2C%20%5B-93.13353759544003%2C%2072.22699676311242%5D%2C%20%5B-93.03679015617308%2C%2072.70209848793546%5D%2C%20%5B-92.89687667097435%2C%2073.17632050286431%5D%2C%20%5B-92.71024130100585%2C%2073.64932478690244%5D%2C%20%5B-92.47295532630349%2C%2074.1207420620443%5D%2C%20%5B-92.18067485472372%2C%2074.59016741476601%5D%2C%20%5B-91.82859450236032%2C%2075.05715524194771%5D%2C%20%5B-91.41139719645555%2C%2075.5212134184748%5D%2C%20%5B-90.92320057442616%2C%2075.98179657290449%5D%2C%20%5B-90.35750094155158%2C%2076.43829834876392%5D%2C%20%5B-89.70711647231498%2C%2076.89004252464404%5D%2C%20%5B-88.9641323851119%2C%2077.33627286999166%5D%2C%20%5B-88.11985230060314%2C%2077.77614163104147%5D%2C%20%5B-87.1647620487805%2C%2078.2086965810471%5D%2C%20%5B-86.08851497477583%2C%2078.63286664289119%5D%2C%20%5B-84.8799514599207%2C%2079.04744621696489%5D%2C%20%5B-83.52717002012233%2C%2079.45107854501602%5D%2C%20%5B-82.01767291764645%2C%2079.84223873892682%5D%2C%20%5B-80.33861536338149%2C%2080.2192175327862%5D%2C%20%5B-78.47719316938685%2C%2080.58010740493276%5D%2C%20%5B-76.42120730339425%2C%2080.9227934756518%5D%2C%20%5B-74.15984208433588%2C%2081.24495248833581%5D%2C%20%5B-71.68468213571731%2C%2081.54406412453781%5D%2C%20%5B-68.9909659437706%2C%2081.81743966421429%5D%2C%20%5B-66.07902564691851%2C%2082.06227320257763%5D%2C%20%5B-62.955792075673365%2C%2082.27571974582088%5D%2C%20%5B-59.63615876965979%2C%2082.45500196038738%5D%2C%20%5B-56.1439207849549%2C%2082.59754279775974%5D%2C%20%5B-52.51197050863779%2C%2082.70111493445701%5D%2C%20%5B-48.781484944194965%2C%2082.76399121747345%5D%2C%20%5B-45.00000000000071%2C%2082.78507533021202%5D%2C%20%5B-41.218515055806456%2C%2082.76399121747345%5D%2C%20%5B-37.4880294913636%2C%2082.70111493445705%5D%2C%20%5B-33.85607921504646%2C%2082.59754279775979%5D%2C%20%5B-30.363841230341595%2C%2082.45500196038748%5D%2C%20%5B-27.04420792432799%2C%2082.27571974582096%5D%2C%20%5B-23.92097435308273%2C%2082.06227320257771%5D%2C%20%5B-21.009034056230558%2C%2081.81743966421439%5D%2C%20%5B-18.31531786428379%2C%2081.54406412453791%5D%2C%20%5B-15.840157915665088%2C%2081.24495248833594%5D%2C%20%5B-13.578792696606646%2C%2080.92279347565191%5D%2C%20%5B-11.522806830613964%2C%2080.58010740493292%5D%2C%20%5B-9.66138463661913%2C%2080.21921753278636%5D%2C%20%5B-7.982327082354175%2C%2079.84223873892698%5D%2C%20%5B-6.472829979878258%2C%2079.45107854501616%5D%2C%20%5B-5.120048540079798%2C%2079.04744621696503%5D%2C%20%5B-3.911485025224654%2C%2078.63286664289132%5D%2C%20%5B-2.8352379512198724%2C%2078.20869658104726%5D%2C%20%5B-1.880147699397238%2C%2077.77614163104163%5D%2C%20%5B-1.035867614888455%2C%2077.33627286999182%5D%2C%20%5B-0.2928835276853133%2C%2076.89004252464426%5D%2C%20%5B0.3575009415513609%2C%2076.4382983487641%5D%2C%20%5B0.923200574425968%2C%2075.98179657290467%5D%2C%20%5B1.4113971964553793%2C%2075.521213418475%5D%2C%20%5B1.828594502360159%2C%2075.05715524194792%5D%2C%20%5B2.1806748547236436%2C%2074.59016741476621%5D%2C%20%5B2.4729553263033694%2C%2074.1207420620445%5D%2C%20%5B2.7102413010057633%2C%2073.64932478690262%5D%2C%20%5B2.896876670974254%2C%2073.17632050286447%5D%2C%20%5B3.036790156173078%2C%2072.70209848793563%5D%2C%20%5B3.133537595440013%2C%2072.22699676311261%5D%2C%20%5B3.1903402638889626%2C%2071.75132588663854%5D%2C%20%5B3.21011939680266%2C%2071.27537224416756%5D%2C%20%5B3.1955271705774817%2C%2070.79940090460313%5D%2C%20%5B3.1489744250907794%2C%2070.323658101956%5D%2C%20%5B3.072655421816512%2C%2069.84837339519744%5D%2C%20%5B2.968569926919009%2C%2069.3737615507452%5D%2C%20%5B2.838542894431942%2C%2068.90002418584623%5D%2C%20%5B2.684242005524742%2C%2068.42735120562352%5D%2C%20%5B2.5071932984552276%2C%2067.95592206183474%5D%2C%20%5B2.3087951018318025%2C%2067.48590685735331%5D%2C%20%5B2.0903304623412846%2C%2067.0174673169348%5D%2C%20%5B1.852978237779642%2C%2066.55075764189299%5D%2C%20%5B1.597823007392666%2C%2066.08592526380654%5D%2C%20%5B1.3258639343473217%2C%2065.62311151024343%5D%2C%20%5B1.0380226996330402%2C%2065.16245219367505%5D%2C%20%5B0.7351506127886098%2C%2064.70407813320072%5D%2C%20%5B0.41803499247058046%2C%2064.24811561738431%5D%2C%20%5B0.08740489890031324%2C%2063.794686815374064%5D%2C%20%5B-0.2560637094726008%2C%2063.34391014251334%5D%2C%20%5B-0.6117433313048859%2C%2062.89590058582355%5D%2C%20%5B-0.9790507334333836%2C%2062.4507699940323%5D%2C%20%5B-1.3574431680459633%2C%2062.00862733621223%5D%2C%20%5B-1.7464149521193542%2C%2061.569578932573336%5D%2C%20%5B-2.1454943703992373%2C%2061.133728660501625%5D%2C%20%5B-2.554240867678781%2C%2060.70117813854817%5D%2C%20%5B-2.9722425000693735%2C%2060.2720268907386%5D%2C%20%5B-3.3991136184141864%2C%2059.84637249328171%5D%2C%20%5B-3.8344927600363117%2C%2059.42431070550522%5D%2C%20%5B-4.278040727685733%2C%2059.00593558662847%5D%2C%20%5B-4.729438836902943%2C%2058.591339599791986%5D%2C%20%5B-5.188387315089974%2C%2058.18061370459923%5D%2C%20%5B-5.654603837407186%2C%2057.773847439281305%5D%2C%20%5B-6.127822186227387%2C%2057.37112899347044%5D%2C%20%5B-6.60779102230319%2C%2056.97254527245765%5D%5D%5D%2C%20%22type%22%3A%20%22Polygon%22%7D%2C%20%22id%22%3A%20%220%22%2C%20%22properties%22%3A%20%7B%7D%2C%20%22type%22%3A%20%22Feature%22%7D%5D%2C%20%22type%22%3A%20%22FeatureCollection%22%7D%29%3B%0A%0A%20%20%20%20%20%20%20%20%0A%20%20%20%20%0A%20%20%20%20%20%20%20%20%20%20%20%20%20%20%20%20var%20lat_lng_popup_e989d858ef5d476b9c30bca319dd1c7e%20%3D%20L.popup%28%29%3B%0A%20%20%20%20%20%20%20%20%20%20%20%20%20%20%20%20function%20latLngPop%28e%29%20%7B%0A%20%20%20%20%20%20%20%20%20%20%20%20%20%20%20%20%20%20%20%20lat_lng_popup_e989d858ef5d476b9c30bca319dd1c7e%0A%20%20%20%20%20%20%20%20%20%20%20%20%20%20%20%20%20%20%20%20%20%20%20%20.setLatLng%28e.latlng%29%0A%20%20%20%20%20%20%20%20%20%20%20%20%20%20%20%20%20%20%20%20%20%20%20%20.setContent%28%22Latitude%3A%20%22%20%2B%20e.latlng.lat.toFixed%284%29%20%2B%0A%20%20%20%20%20%20%20%20%20%20%20%20%20%20%20%20%20%20%20%20%20%20%20%20%20%20%20%20%20%20%20%20%20%20%20%20%22%3Cbr%3ELongitude%3A%20%22%20%2B%20e.latlng.lng.toFixed%284%29%29%0A%20%20%20%20%20%20%20%20%20%20%20%20%20%20%20%20%20%20%20%20%20%20%20%20.openOn%28map_3dc7d01cc23c4c4d8162e646590f6bed%29%3B%0A%20%20%20%20%20%20%20%20%20%20%20%20%20%20%20%20%20%20%20%20%7D%0A%20%20%20%20%20%20%20%20%20%20%20%20%20%20%20%20map_3dc7d01cc23c4c4d8162e646590f6bed.on%28%27click%27%2C%20latLngPop%29%3B%0A%20%20%20%20%20%20%20%20%20%20%20%20%0A%3C/script%3E onload=\"this.contentDocument.open();this.contentDocument.write(    decodeURIComponent(this.getAttribute('data-html')));this.contentDocument.close();\" \"allowfullscreen\" \"webkitallowfullscreen\" \"mozallowfullscreen\"></iframe>"
      ],
      "text/plain": [
       "<folium.folium.Map at 0x7f1309e8e1f0>"
      ]
     },
     "execution_count": 34,
     "metadata": {},
     "output_type": "execute_result"
    }
   ],
   "source": [
    "from functools import partial\n",
    "\n",
    "import pyproj\n",
    "from shapely import geometry\n",
    "from shapely.geometry import Point\n",
    "from shapely.ops import transform\n",
    "\n",
    "def get_circle_with_radius(lon, lat, radius, resolution=16):\n",
    "    # https://gis.stackexchange.com/questions/121256/creating-a-circle-with-radius-in-metres\n",
    "    local_azimuthal_projection = f\"+proj=aeqd +R=6371000 +units=m +lat_0={lat} +lon_0={lon}\".format(\n",
    "        lat, lon\n",
    "    )\n",
    "    wgs84_to_aeqd = partial(\n",
    "        pyproj.transform,\n",
    "        pyproj.Proj(\"+proj=longlat +datum=WGS84 +no_defs\"),\n",
    "        pyproj.Proj(local_azimuthal_projection),\n",
    "    )\n",
    "    aeqd_to_wgs84 = partial(\n",
    "        pyproj.transform,\n",
    "        pyproj.Proj(local_azimuthal_projection),\n",
    "        pyproj.Proj(\"+proj=longlat +datum=WGS84 +no_defs\"),\n",
    "    )\n",
    "\n",
    "    center = Point(float(lon), float(lat))\n",
    "    point_transformed = transform(wgs84_to_aeqd, center)\n",
    "    buffer = point_transformed.buffer(radius, resolution)\n",
    "    # Get the polygon with lat lon coordinates\n",
    "    circle_poly = transform(aeqd_to_wgs84, buffer)\n",
    "\n",
    "    return gpd.GeoDataFrame(index=[0], crs='epsg:4326', geometry=[circle_poly])\n",
    "\n",
    "greenland_circle = get_circle_with_radius(-45, 63, 2200e3, resolution=64)\n",
    "plot_folium(greenland_circle, [63, -45], 2)"
   ]
  },
  {
   "cell_type": "markdown",
   "id": "c4836feb-cb43-4f9f-bca9-64e0a8e7a6b8",
   "metadata": {},
   "source": [
    "Which nicely shows that our perfect circle of 2200 kilometers translates to an oval in the latitude-longitude projection. This explains why [Greenland is shown so much bigger on maps then Africa](https://www.visualcapitalist.com/map-true-size-of-africa/). With our Greenland circle ready for use, we can call the `get_population_in_shape` function:"
   ]
  },
  {
   "cell_type": "code",
   "execution_count": 22,
   "id": "b9e1c288-2d72-401a-8c89-d46d7440f68e",
   "metadata": {},
   "outputs": [
    {
     "data": {
      "text/plain": [
       "1.81848775"
      ]
     },
     "execution_count": 22,
     "metadata": {},
     "output_type": "execute_result"
    }
   ],
   "source": [
    "get_population_in_shape(greenland_circle) / 1e6"
   ]
  },
  {
   "cell_type": "markdown",
   "id": "0eed61c4-1da8-419f-bc4c-c1cd8389d2ab",
   "metadata": {},
   "source": [
    "This confirms that not a lot of people live in or around Greenland, 1.8 Million to be precise. \n",
    "\n",
    "# Finding the center of population\n",
    "In the Youtube movie, the presenter names a 3300km circle around the town of Mong Khet to present the smallest circle where 50 percent of the worlds population lives inside the circle. Using our tools and data we can check this:"
   ]
  },
  {
   "cell_type": "code",
   "execution_count": 36,
   "id": "5851cfb1-4948-4e92-886d-544b93ed738f",
   "metadata": {},
   "outputs": [
    {
     "name": "stdout",
     "output_type": "stream",
     "text": [
      "3885.511936\n",
      "0.48771578\n"
     ]
    },
    {
     "data": {
      "text/html": [
       "<iframe src=\"about:blank\" width=\"800\" height=\"800\"style=\"border:none !important;\" data-html=%3C%21DOCTYPE%20html%3E%0A%3Chead%3E%20%20%20%20%0A%20%20%20%20%3Cmeta%20http-equiv%3D%22content-type%22%20content%3D%22text/html%3B%20charset%3DUTF-8%22%20/%3E%0A%20%20%20%20%0A%20%20%20%20%20%20%20%20%3Cscript%3E%0A%20%20%20%20%20%20%20%20%20%20%20%20L_NO_TOUCH%20%3D%20false%3B%0A%20%20%20%20%20%20%20%20%20%20%20%20L_DISABLE_3D%20%3D%20false%3B%0A%20%20%20%20%20%20%20%20%3C/script%3E%0A%20%20%20%20%0A%20%20%20%20%3Cstyle%3Ehtml%2C%20body%20%7Bwidth%3A%20100%25%3Bheight%3A%20100%25%3Bmargin%3A%200%3Bpadding%3A%200%3B%7D%3C/style%3E%0A%20%20%20%20%3Cstyle%3E%23map%20%7Bposition%3Aabsolute%3Btop%3A0%3Bbottom%3A0%3Bright%3A0%3Bleft%3A0%3B%7D%3C/style%3E%0A%20%20%20%20%3Cscript%20src%3D%22https%3A//cdn.jsdelivr.net/npm/leaflet%401.6.0/dist/leaflet.js%22%3E%3C/script%3E%0A%20%20%20%20%3Cscript%20src%3D%22https%3A//code.jquery.com/jquery-1.12.4.min.js%22%3E%3C/script%3E%0A%20%20%20%20%3Cscript%20src%3D%22https%3A//maxcdn.bootstrapcdn.com/bootstrap/3.2.0/js/bootstrap.min.js%22%3E%3C/script%3E%0A%20%20%20%20%3Cscript%20src%3D%22https%3A//cdnjs.cloudflare.com/ajax/libs/Leaflet.awesome-markers/2.0.2/leaflet.awesome-markers.js%22%3E%3C/script%3E%0A%20%20%20%20%3Clink%20rel%3D%22stylesheet%22%20href%3D%22https%3A//cdn.jsdelivr.net/npm/leaflet%401.6.0/dist/leaflet.css%22/%3E%0A%20%20%20%20%3Clink%20rel%3D%22stylesheet%22%20href%3D%22https%3A//maxcdn.bootstrapcdn.com/bootstrap/3.2.0/css/bootstrap.min.css%22/%3E%0A%20%20%20%20%3Clink%20rel%3D%22stylesheet%22%20href%3D%22https%3A//maxcdn.bootstrapcdn.com/bootstrap/3.2.0/css/bootstrap-theme.min.css%22/%3E%0A%20%20%20%20%3Clink%20rel%3D%22stylesheet%22%20href%3D%22https%3A//maxcdn.bootstrapcdn.com/font-awesome/4.6.3/css/font-awesome.min.css%22/%3E%0A%20%20%20%20%3Clink%20rel%3D%22stylesheet%22%20href%3D%22https%3A//cdnjs.cloudflare.com/ajax/libs/Leaflet.awesome-markers/2.0.2/leaflet.awesome-markers.css%22/%3E%0A%20%20%20%20%3Clink%20rel%3D%22stylesheet%22%20href%3D%22https%3A//cdn.jsdelivr.net/gh/python-visualization/folium/folium/templates/leaflet.awesome.rotate.min.css%22/%3E%0A%20%20%20%20%0A%20%20%20%20%20%20%20%20%20%20%20%20%3Cmeta%20name%3D%22viewport%22%20content%3D%22width%3Ddevice-width%2C%0A%20%20%20%20%20%20%20%20%20%20%20%20%20%20%20%20initial-scale%3D1.0%2C%20maximum-scale%3D1.0%2C%20user-scalable%3Dno%22%20/%3E%0A%20%20%20%20%20%20%20%20%20%20%20%20%3Cstyle%3E%0A%20%20%20%20%20%20%20%20%20%20%20%20%20%20%20%20%23map_3617ed7ac496425ab7e5e53de6061bc5%20%7B%0A%20%20%20%20%20%20%20%20%20%20%20%20%20%20%20%20%20%20%20%20position%3A%20relative%3B%0A%20%20%20%20%20%20%20%20%20%20%20%20%20%20%20%20%20%20%20%20width%3A%20100.0%25%3B%0A%20%20%20%20%20%20%20%20%20%20%20%20%20%20%20%20%20%20%20%20height%3A%20100.0%25%3B%0A%20%20%20%20%20%20%20%20%20%20%20%20%20%20%20%20%20%20%20%20left%3A%200.0%25%3B%0A%20%20%20%20%20%20%20%20%20%20%20%20%20%20%20%20%20%20%20%20top%3A%200.0%25%3B%0A%20%20%20%20%20%20%20%20%20%20%20%20%20%20%20%20%7D%0A%20%20%20%20%20%20%20%20%20%20%20%20%3C/style%3E%0A%20%20%20%20%20%20%20%20%0A%3C/head%3E%0A%3Cbody%3E%20%20%20%20%0A%20%20%20%20%0A%20%20%20%20%20%20%20%20%20%20%20%20%3Cdiv%20class%3D%22folium-map%22%20id%3D%22map_3617ed7ac496425ab7e5e53de6061bc5%22%20%3E%3C/div%3E%0A%20%20%20%20%20%20%20%20%0A%3C/body%3E%0A%3Cscript%3E%20%20%20%20%0A%20%20%20%20%0A%20%20%20%20%20%20%20%20%20%20%20%20var%20map_3617ed7ac496425ab7e5e53de6061bc5%20%3D%20L.map%28%0A%20%20%20%20%20%20%20%20%20%20%20%20%20%20%20%20%22map_3617ed7ac496425ab7e5e53de6061bc5%22%2C%0A%20%20%20%20%20%20%20%20%20%20%20%20%20%20%20%20%7B%0A%20%20%20%20%20%20%20%20%20%20%20%20%20%20%20%20%20%20%20%20center%3A%20%5B21.72%2C%2099.38%5D%2C%0A%20%20%20%20%20%20%20%20%20%20%20%20%20%20%20%20%20%20%20%20crs%3A%20L.CRS.EPSG3857%2C%0A%20%20%20%20%20%20%20%20%20%20%20%20%20%20%20%20%20%20%20%20zoom%3A%203%2C%0A%20%20%20%20%20%20%20%20%20%20%20%20%20%20%20%20%20%20%20%20zoomControl%3A%20true%2C%0A%20%20%20%20%20%20%20%20%20%20%20%20%20%20%20%20%20%20%20%20preferCanvas%3A%20false%2C%0A%20%20%20%20%20%20%20%20%20%20%20%20%20%20%20%20%7D%0A%20%20%20%20%20%20%20%20%20%20%20%20%29%3B%0A%0A%20%20%20%20%20%20%20%20%20%20%20%20%0A%0A%20%20%20%20%20%20%20%20%0A%20%20%20%20%0A%20%20%20%20%20%20%20%20%20%20%20%20var%20tile_layer_5f890fbc4ccf4d78ac35a879c7c03efd%20%3D%20L.tileLayer%28%0A%20%20%20%20%20%20%20%20%20%20%20%20%20%20%20%20%22https%3A//cartodb-basemaps-%7Bs%7D.global.ssl.fastly.net/light_all/%7Bz%7D/%7Bx%7D/%7By%7D.png%22%2C%0A%20%20%20%20%20%20%20%20%20%20%20%20%20%20%20%20%7B%22attribution%22%3A%20%22%5Cu0026copy%3B%20%5Cu003ca%20href%3D%5C%22http%3A//www.openstreetmap.org/copyright%5C%22%5Cu003eOpenStreetMap%5Cu003c/a%5Cu003e%20contributors%20%5Cu0026copy%3B%20%5Cu003ca%20href%3D%5C%22http%3A//cartodb.com/attributions%5C%22%5Cu003eCartoDB%5Cu003c/a%5Cu003e%2C%20CartoDB%20%5Cu003ca%20href%20%3D%5C%22http%3A//cartodb.com/attributions%5C%22%5Cu003eattributions%5Cu003c/a%5Cu003e%22%2C%20%22detectRetina%22%3A%20false%2C%20%22maxNativeZoom%22%3A%2018%2C%20%22maxZoom%22%3A%2018%2C%20%22minZoom%22%3A%200%2C%20%22noWrap%22%3A%20false%2C%20%22opacity%22%3A%201%2C%20%22subdomains%22%3A%20%22abc%22%2C%20%22tms%22%3A%20false%7D%0A%20%20%20%20%20%20%20%20%20%20%20%20%29.addTo%28map_3617ed7ac496425ab7e5e53de6061bc5%29%3B%0A%20%20%20%20%20%20%20%20%0A%20%20%20%20%0A%0A%20%20%20%20%20%20%20%20function%20geo_json_38941e80378c49f3955d3637e4b2dde1_onEachFeature%28feature%2C%20layer%29%20%7B%0A%20%20%20%20%20%20%20%20%20%20%20%20layer.on%28%7B%0A%20%20%20%20%20%20%20%20%20%20%20%20%7D%29%3B%0A%20%20%20%20%20%20%20%20%7D%3B%0A%20%20%20%20%20%20%20%20var%20geo_json_38941e80378c49f3955d3637e4b2dde1%20%3D%20L.geoJson%28null%2C%20%7B%0A%20%20%20%20%20%20%20%20%20%20%20%20%20%20%20%20onEachFeature%3A%20geo_json_38941e80378c49f3955d3637e4b2dde1_onEachFeature%2C%0A%20%20%20%20%20%20%20%20%20%20%20%20%0A%20%20%20%20%20%20%20%20%7D%29%3B%0A%0A%20%20%20%20%20%20%20%20function%20geo_json_38941e80378c49f3955d3637e4b2dde1_add%20%28data%29%20%7B%0A%20%20%20%20%20%20%20%20%20%20%20%20geo_json_38941e80378c49f3955d3637e4b2dde1%0A%20%20%20%20%20%20%20%20%20%20%20%20%20%20%20%20.addData%28data%29%0A%20%20%20%20%20%20%20%20%20%20%20%20%20%20%20%20.addTo%28map_3617ed7ac496425ab7e5e53de6061bc5%29%3B%0A%20%20%20%20%20%20%20%20%7D%0A%20%20%20%20%20%20%20%20%20%20%20%20geo_json_38941e80378c49f3955d3637e4b2dde1_add%28%7B%22bbox%22%3A%20%5B67.17540403087754%2C%20-7.957612995318109%2C%20131.5845959691225%2C%2051.3976129953181%5D%2C%20%22features%22%3A%20%5B%7B%22bbox%22%3A%20%5B67.17540403087754%2C%20-7.957612995318109%2C%20131.5845959691225%2C%2051.3976129953181%5D%2C%20%22geometry%22%3A%20%7B%22coordinates%22%3A%20%5B%5B%5B130.90591540964516%2C%2018.755296850588316%5D%2C%20%5B130.75654619266842%2C%2018.073624581582717%5D%2C%20%5B130.5931309098982%2C%2017.394997179971764%5D%2C%20%5B130.41584781614114%2C%2016.719692093146133%5D%2C%20%5B130.22486782998632%2C%2016.047984795970272%5D%2C%20%5B130.0203549705622%2C%2015.380149006520329%5D%2C%20%5B129.80246680353542%2C%2014.716456886991105%5D%2C%20%5B129.57135489544015%2C%2014.057179229718262%5D%2C%20%5B129.32716527556653%2C%2013.402585628248083%5D%2C%20%5B129.07003890475377%2C%2012.752944633371666%5D%2C%20%5B128.80011215052482%2C%2012.108523894023278%5D%2C%20%5B128.51751726806927%2C%2011.469590282925108%5D%2C%20%5B128.22238288663235%2C%2010.836410006842764%5D%2C%20%5B127.91483450089646%2C%2010.209248701298986%5D%2C%20%5B127.59499496695489%2C%209.58837150957703%5D%2C%20%5B127.26298500247263%2C%208.974043145830821%5D%2C%20%5B126.91892369060838%2C%208.366527942107231%5D%2C%20%5B126.56292898723572%2C%207.766089879076466%5D%2C%20%5B126.19511823095303%2C%207.172992600260619%5D%2C%20%5B125.81560865530696%2C%206.587499409548428%5D%2C%20%5B125.42451790258087%2C%206.0098732517863%5D%2C%20%5B125.02196453841225%2C%205.440376676242529%5D%2C%20%5B124.6080685664068%2C%204.879271782753773%5D%2C%20%5B124.1829519418113%2C%204.3268201503804935%5D%2C%20%5B123.74673908319336%2C%203.7832827484216622%5D%2C%20%5B123.2995573809562%2C%203.2489198296694113%5D%2C%20%5B122.84153770139025%2C%202.723990805820784%5D%2C%20%5B122.37281488483502%2C%202.2087541050078996%5D%2C%20%5B121.89352823639257%2C%201.703467011458703%5D%2C%20%5B121.40382200750278%2C%201.2083854873589983%5D%2C%20%5B120.90384586656133%2C%200.7237639770523399%5D%2C%20%5B120.39375535663497%2C%200.249855193787799%5D%2C%20%5B119.87371233821061%2C%20-0.2130901106938808%5D%2C%20%5B119.34388541480324%2C%20-0.6648233933571475%5D%2C%20%5B118.80445033914944%2C%20-1.1050985833786995%5D%2C%20%5B118.25559039762757%2C%20-1.5336723613906509%5D%2C%20%5B117.69749677047767%2C%20-1.9503044537795995%5D%2C%20%5B117.13036886534458%2C%20-2.354757941249427%5D%2C%20%5B116.55441462164073%2C%20-2.7467995807404164%5D%2C%20%5B115.96985078322257%2C%20-3.1262001396787023%5D%2C%20%5B115.37690313689842%2C%20-3.4927347414093006%5D%2C%20%5B114.77580671433962%2C%20-3.84618322054572%5D%2C%20%5B114.16680595505089%2C%20-4.186330486848466%5D%2C%20%5B113.55015482817292%2C%20-4.5129668961280895%5D%2C%20%5B112.92611691104204%2C%20-4.825888626554546%5D%2C%20%5B112.29496542261633%2C%20-5.124898058647989%5D%2C%20%5B111.65698321009862%2C%20-5.409804157126252%5D%2C%20%5B111.01246268734091%2C%20-5.680422852694534%5D%2C%20%5B110.36170572390284%2C%20-5.936577421784456%5D%2C%20%5B109.7050234839556%2C%20-6.178098862184236%5D%2C%20%5B109.04273621457116%2C%20-6.404826262451649%5D%2C%20%5B108.37517298331086%2C%20-6.61660716296733%5D%2C%20%5B107.70267136542344%2C%20-6.813297906470411%5D%2C%20%5B107.02557708137628%2C%20-6.994763975921455%5D%2C%20%5B106.34424358587079%2C%20-7.1608803175611175%5D%2C%20%5B105.65903160992544%2C%20-7.311531647077269%5D%2C%20%5B104.97030865804545%2C%20-7.446612736858669%5D%2C%20%5B104.27844846292693%2C%20-7.566028682400195%5D%2C%20%5B103.58383040056106%2C%20-7.669695146032692%5D%2C%20%5B102.8868388690033%2C%20-7.757538576278626%5D%2C%20%5B102.18786263444738%2C%20-7.829496401283292%5D%2C%20%5B101.4872941485865%2C%20-7.885517194936944%5D%2C%20%5B100.785528841552%2C%20-7.925560814486486%5D%2C%20%5B100.08296439498316%2C%20-7.9495985086326195%5D%2C%20%5B99.38000000000005%2C%20-7.957612995318109%5D%2C%20%5B98.67703560501693%2C%20-7.9495985086326195%5D%2C%20%5B97.97447115844811%2C%20-7.925560814486492%5D%2C%20%5B97.2727058514136%2C%20-7.885517194936947%5D%2C%20%5B96.5721373655527%2C%20-7.829496401283305%5D%2C%20%5B95.87316113099679%2C%20-7.757538576278639%5D%2C%20%5B95.17616959943904%2C%20-7.669695146032704%5D%2C%20%5B94.48155153707316%2C%20-7.566028682400208%5D%2C%20%5B93.78969134195465%2C%20-7.446612736858679%5D%2C%20%5B93.10096839007466%2C%20-7.311531647077288%5D%2C%20%5B92.4157564141293%2C%20-7.160880317561137%5D%2C%20%5B91.7344229186238%2C%20-6.994763975921477%5D%2C%20%5B91.05732863457665%2C%20-6.813297906470433%5D%2C%20%5B90.38482701668923%2C%20-6.616607162967355%5D%2C%20%5B89.71726378542893%2C%20-6.404826262451684%5D%2C%20%5B89.05497651604449%2C%20-6.178098862184272%5D%2C%20%5B88.39829427609725%2C%20-5.936577421784484%5D%2C%20%5B87.74753731265918%2C%20-5.680422852694568%5D%2C%20%5B87.10301678990146%2C%20-5.40980415712629%5D%2C%20%5B86.46503457738375%2C%20-5.124898058648027%5D%2C%20%5B85.83388308895805%2C%20-4.825888626554587%5D%2C%20%5B85.20984517182717%2C%20-4.512966896128134%5D%2C%20%5B84.5931940449492%2C%20-4.186330486848517%5D%2C%20%5B83.98419328566044%2C%20-3.846183220545758%5D%2C%20%5B83.38309686310166%2C%20-3.492734741409345%5D%2C%20%5B82.79014921677752%2C%20-3.1262001396787467%5D%2C%20%5B82.20558537835934%2C%20-2.7467995807404737%5D%2C%20%5B81.6296311346555%2C%20-2.354757941249478%5D%2C%20%5B81.0625032295224%2C%20-1.9503044537796568%5D%2C%20%5B80.50440960237252%2C%20-1.5336723613907113%5D%2C%20%5B79.95554966085064%2C%20-1.1050985833787568%5D%2C%20%5B79.41611458519682%2C%20-0.6648233933572015%5D%2C%20%5B78.88628766178945%2C%20-0.21309011069393172%5D%2C%20%5B78.3662446433651%2C%200.24985519378773854%5D%2C%20%5B77.85615413343875%2C%200.7237639770522762%5D%2C%20%5B77.35617799249728%2C%201.2083854873589315%5D%2C%20%5B76.8664717636075%2C%201.703467011458633%5D%2C%20%5B76.38718511516504%2C%202.208754105007823%5D%2C%20%5B75.91846229860981%2C%202.7239908058207165%5D%2C%20%5B75.46044261904386%2C%203.248919829669348%5D%2C%20%5B75.0132609168067%2C%203.783282748421598%5D%2C%20%5B74.57704805818878%2C%204.326820150380423%5D%2C%20%5B74.15193143359326%2C%204.879271782753697%5D%2C%20%5B73.73803546158781%2C%205.44037667624245%5D%2C%20%5B73.33548209741919%2C%206.009873251786221%5D%2C%20%5B72.94439134469312%2C%206.587499409548345%5D%2C%20%5B72.56488176904703%2C%207.172992600260542%5D%2C%20%5B72.19707101276433%2C%207.766089879076391%5D%2C%20%5B71.84107630939168%2C%208.366527942107155%5D%2C%20%5B71.49701499752742%2C%208.97404314583074%5D%2C%20%5B71.16500503304518%2C%209.588371509576948%5D%2C%20%5B70.84516549910359%2C%2010.209248701298902%5D%2C%20%5B70.5376171133677%2C%2010.836410006842675%5D%2C%20%5B70.24248273193076%2C%2011.469590282925033%5D%2C%20%5B69.9598878494752%2C%2012.1085238940232%5D%2C%20%5B69.68996109524625%2C%2012.75294463337158%5D%2C%20%5B69.43283472443352%2C%2013.402585628247998%5D%2C%20%5B69.18864510455988%2C%2014.057179229718177%5D%2C%20%5B68.9575331964646%2C%2014.716456886991013%5D%2C%20%5B68.73964502943784%2C%2015.380149006520234%5D%2C%20%5B68.5351321700137%2C%2016.04798479597018%5D%2C%20%5B68.34415218385888%2C%2016.719692093146048%5D%2C%20%5B68.16686909010183%2C%2017.394997179971682%5D%2C%20%5B68.00345380733161%2C%2018.07362458158263%5D%2C%20%5B67.85408459035486%2C%2018.755296850588223%5D%2C%20%5B67.71894745663016%2C%2019.439734336545893%5D%2C%20%5B67.5982366011023%2C%2020.126654940683828%5D%2C%20%5B67.4921547979289%2C%2020.815773855905405%5D%2C%20%5B67.40091378732835%2C%2021.506803292111986%5D%2C%20%5B67.3247346454772%2C%2022.199452186890408%5D%2C%20%5B67.26384813504512%2C%2022.893425901629477%5D%2C%20%5B67.21849503357136%2C%2023.588425903156416%5D%2C%20%5B67.18892643645829%2C%2024.284149431022463%5D%2C%20%5B67.17540403087754%2C%2024.98028915061719%5D%2C%20%5B67.17820033635404%2C%2025.676532792355754%5D%2C%20%5B67.19759890720555%2C%2026.372562777264587%5D%2C%20%5B67.23389449137005%2C%2027.068055829391028%5D%2C%20%5B67.28739313944595%2C%2027.76268257558319%5D%2C%20%5B67.35841225700082%2C%2028.456107133331642%5D%2C%20%5B67.44728059236893%2C%2029.147986687535756%5D%2C%20%5B67.55433815126013%2C%2029.83797105725945%5D%2C%20%5B67.67993602853929%2C%2030.5257022537758%5D%2C%20%5B67.82443614651447%2C%2031.210814031471614%5D%2C%20%5B67.98821088799623%2C%2031.89293143349514%5D%2C%20%5B68.17164261126707%2C%2032.571670334386084%5D%2C%20%5B68.37512303294743%2C%2033.24663698233158%5D%2C%20%5B68.59905246357063%2C%2033.917427544146456%5D%2C%20%5B68.84383887951513%2C%2034.58362765658698%5D%2C%20%5B69.1098968138085%2C%2035.24481198817442%5D%2C%20%5B69.39764604725566%2C%2035.900543816332224%5D%2C%20%5B69.70751008039373%2C%2036.550374625328274%5D%2C%20%5B70.03991436599341%2C%2037.19384373126244%5D%2C%20%5B70.39528428127441%2C%2037.83047794114606%5D%2C%20%5B70.77404281875607%2C%2038.45979125398119%5D%2C%20%5B71.17660797481138%2C%2039.08128461265536%5D%2C%20%5B71.6033898156318%2C%2039.694445716411956%5D%2C%20%5B72.0547872015535%2C%2040.29874890462346%5D%2C%20%5B72.53118415266587%2C%2040.89365512356315%5D%2C%20%5B73.03294584145065%2C%2041.47861198881886%5D%2C%20%5B73.56041420202317%2C%2042.053053956885286%5D%2C%20%5B74.11390315050386%2C%2042.616402620274975%5D%2C%20%5B74.69369341727005%2C%2043.168067141154864%5D%2C%20%5B75.3000269994465%2C%2043.70744483899456%5D%2C%20%5B75.9331012510788%2C%2044.23392194794434%5D%2C%20%5B76.59306263905722%2C%2044.746874559579574%5D%2C%20%5B77.28000020501939%2C%2045.245669766182814%5D%2C%20%5B77.99393878709847%2C%2045.72966701881103%5D%2C%20%5B78.73483207034297%2C%2046.19821971293812%5D%2C%20%5B79.50255555066266%2C%2046.650677012402475%5D%2C%20%5B80.29689951387523%2C%2047.08638591965964%5D%2C%20%5B81.1175621483332%2C%2047.50469359689616%5D%2C%20%5B81.96414292605532%2C%2047.90494993836894%5D%2C%20%5B82.83613640249004%2C%2048.28651038939739%5D%2C%20%5B83.732926598096%2C%2048.648739001783%5D%2C%20%5B84.6537821348422%2C%2048.991011709138476%5D%2C%20%5B85.59785230645254%2C%2049.312719798796586%5D%2C%20%5B86.56416426170757%2C%2049.61327354980612%5D%2C%20%5B87.55162147440298%2C%2049.892105999232996%5D%2C%20%5B88.55900366084869%2C%2050.148676791834745%5D%2C%20%5B89.58496828553372%2C%2050.382476061476254%5D%2C%20%5B90.62805376757662%2C%2050.59302828674131%5D%2C%20%5B91.68668446505835%2C%2050.779896058415616%5D%2C%20%5B92.75917747200182%2C%2050.94268369321127%5D%2C%20%5B93.84375121483548%2C%2051.081040626575806%5D%2C%20%5B94.9385357833701%2C%2051.194664517927606%5D%2C%20%5B96.04158487776942%2C%2051.283304004348025%5D%2C%20%5B97.15088920017463%2C%2051.34676104370109%5D%2C%20%5B98.26439107019198%2C%2051.38489279529034%5D%2C%20%5B99.37999999999978%2C%2051.3976129953181%5D%2C%20%5B100.49560892980762%2C%2051.38489279529034%5D%2C%20%5B101.60911079982496%2C%2051.346761043701115%5D%2C%20%5B102.71841512223017%2C%2051.283304004348054%5D%2C%20%5B103.82146421662944%2C%2051.19466451792765%5D%2C%20%5B104.91624878516409%2C%2051.081040626575856%5D%2C%20%5B106.00082252799774%2C%2050.94268369321133%5D%2C%20%5B107.07331553494122%2C%2050.77989605841569%5D%2C%20%5B108.13194623242295%2C%2050.59302828674138%5D%2C%20%5B109.17503171446585%2C%2050.38247606147634%5D%2C%20%5B110.20099633915089%2C%2050.14867679183485%5D%2C%20%5B111.20837852559661%2C%2049.89210599923311%5D%2C%20%5B112.19583573829206%2C%2049.61327354980624%5D%2C%20%5B113.16214769354711%2C%2049.312719798796714%5D%2C%20%5B114.10621786515745%2C%2048.99101170913861%5D%2C%20%5B115.02707340190366%2C%2048.64873900178312%5D%2C%20%5B115.92386359750964%2C%2048.28651038939755%5D%2C%20%5B116.79585707394435%2C%2047.90494993836908%5D%2C%20%5B117.6424378516665%2C%2047.50469359689632%5D%2C%20%5B118.46310048612443%2C%2047.08638591965982%5D%2C%20%5B119.25744444933702%2C%2046.650677012402646%5D%2C%20%5B120.0251679296567%2C%2046.198219712938304%5D%2C%20%5B120.7660612129012%2C%2045.72966701881122%5D%2C%20%5B121.4799997949803%2C%2045.24566976618303%5D%2C%20%5B122.16693736094251%2C%2044.74687455957978%5D%2C%20%5B122.82689874892093%2C%2044.23392194794455%5D%2C%20%5B123.45997300055326%2C%2043.70744483899478%5D%2C%20%5B124.06630658272972%2C%2043.16806714115507%5D%2C%20%5B124.64609684949592%2C%2042.61640262027518%5D%2C%20%5B125.19958579797662%2C%2042.0530539568855%5D%2C%20%5B125.72705415854917%2C%2041.478611988819075%5D%2C%20%5B126.22881584733392%2C%2040.893655123563384%5D%2C%20%5B126.7052127984463%2C%2040.29874890462369%5D%2C%20%5B127.15661018436803%2C%2039.6944457164122%5D%2C%20%5B127.58339202518845%2C%2039.0812846126556%5D%2C%20%5B127.98595718124378%2C%2038.459791253981436%5D%2C%20%5B128.36471571872542%2C%2037.830477941146306%5D%2C%20%5B128.72008563400647%2C%2037.1938437312627%5D%2C%20%5B129.05248991960616%2C%2036.55037462532855%5D%2C%20%5B129.36235395274423%2C%2035.900543816332494%5D%2C%20%5B129.6501031861914%2C%2035.24481198817469%5D%2C%20%5B129.9161611204848%2C%2034.58362765658724%5D%2C%20%5B130.16094753642926%2C%2033.91742754414671%5D%2C%20%5B130.38487696705252%2C%2033.24663698233183%5D%2C%20%5B130.58835738873285%2C%2032.57167033438634%5D%2C%20%5B130.7717891120037%2C%2031.89293143349539%5D%2C%20%5B130.93556385348543%2C%2031.210814031471887%5D%2C%20%5B131.08006397146067%2C%2030.525702253776068%5D%2C%20%5B131.20566184873982%2C%2029.837971057259722%5D%2C%20%5B131.31271940763105%2C%2029.147986687536033%5D%2C%20%5B131.40158774299917%2C%2028.45610713333192%5D%2C%20%5B131.472606860554%2C%2027.762682575583465%5D%2C%20%5B131.52610550862994%2C%2027.068055829391305%5D%2C%20%5B131.56240109279443%2C%2026.37256277726487%5D%2C%20%5B131.58179966364597%2C%2025.676532792356035%5D%2C%20%5B131.5845959691225%2C%2024.980289150617477%5D%2C%20%5B131.57107356354172%2C%2024.28414943102275%5D%2C%20%5B131.54150496642868%2C%2023.588425903156676%5D%2C%20%5B131.4961518649549%2C%2022.893425901629744%5D%2C%20%5B131.4352653545228%2C%2022.199452186890667%5D%2C%20%5B131.35908621267168%2C%2021.506803292112245%5D%2C%20%5B131.26784520207116%2C%2020.81577385590568%5D%2C%20%5B131.16176339889773%2C%2020.126654940684098%5D%2C%20%5B131.04105254336991%2C%2019.439734336546163%5D%2C%20%5B130.90591540964516%2C%2018.755296850588316%5D%5D%5D%2C%20%22type%22%3A%20%22Polygon%22%7D%2C%20%22id%22%3A%20%220%22%2C%20%22properties%22%3A%20%7B%7D%2C%20%22type%22%3A%20%22Feature%22%7D%5D%2C%20%22type%22%3A%20%22FeatureCollection%22%7D%29%3B%0A%0A%20%20%20%20%20%20%20%20%0A%20%20%20%20%0A%20%20%20%20%20%20%20%20%20%20%20%20%20%20%20%20var%20lat_lng_popup_768e7870267b420c84ff695c37b7d17b%20%3D%20L.popup%28%29%3B%0A%20%20%20%20%20%20%20%20%20%20%20%20%20%20%20%20function%20latLngPop%28e%29%20%7B%0A%20%20%20%20%20%20%20%20%20%20%20%20%20%20%20%20%20%20%20%20lat_lng_popup_768e7870267b420c84ff695c37b7d17b%0A%20%20%20%20%20%20%20%20%20%20%20%20%20%20%20%20%20%20%20%20%20%20%20%20.setLatLng%28e.latlng%29%0A%20%20%20%20%20%20%20%20%20%20%20%20%20%20%20%20%20%20%20%20%20%20%20%20.setContent%28%22Latitude%3A%20%22%20%2B%20e.latlng.lat.toFixed%284%29%20%2B%0A%20%20%20%20%20%20%20%20%20%20%20%20%20%20%20%20%20%20%20%20%20%20%20%20%20%20%20%20%20%20%20%20%20%20%20%20%22%3Cbr%3ELongitude%3A%20%22%20%2B%20e.latlng.lng.toFixed%284%29%29%0A%20%20%20%20%20%20%20%20%20%20%20%20%20%20%20%20%20%20%20%20%20%20%20%20.openOn%28map_3617ed7ac496425ab7e5e53de6061bc5%29%3B%0A%20%20%20%20%20%20%20%20%20%20%20%20%20%20%20%20%20%20%20%20%7D%0A%20%20%20%20%20%20%20%20%20%20%20%20%20%20%20%20map_3617ed7ac496425ab7e5e53de6061bc5.on%28%27click%27%2C%20latLngPop%29%3B%0A%20%20%20%20%20%20%20%20%20%20%20%20%0A%3C/script%3E onload=\"this.contentDocument.open();this.contentDocument.write(    decodeURIComponent(this.getAttribute('data-html')));this.contentDocument.close();\" \"allowfullscreen\" \"webkitallowfullscreen\" \"mozallowfullscreen\"></iframe>"
      ],
      "text/plain": [
       "<folium.folium.Map at 0x7f1309f60e20>"
      ]
     },
     "execution_count": 36,
     "metadata": {},
     "output_type": "execute_result"
    }
   ],
   "source": [
    "mong_khet_circle = get_circle_with_radius(99.38, 21.72, 3300e3, resolution=64)\n",
    "mk_circle_population = get_population_in_shape(mong_khet_circle) \n",
    "print(mk_circle_population / 1e6)\n",
    "print(mk_circle_population / total_population)\n",
    "plot_folium(mong_khet_circle, [21.72, 99.38], 3)"
   ]
  },
  {
   "cell_type": "markdown",
   "id": "74c674ae-a974-4868-8a72-c8e0db543cdd",
   "metadata": {},
   "source": [
    "which shows that according to our data we are close, but only 48 percent of the world lives inside the circle. A bit of tinkering around with the radius shows that we can get a precise 50 percent if we expand the circle a bit:"
   ]
  },
  {
   "cell_type": "code",
   "execution_count": 27,
   "id": "c3b150cf-b7cf-4e0d-88a4-47dc0b10ae2c",
   "metadata": {},
   "outputs": [
    {
     "name": "stdout",
     "output_type": "stream",
     "text": [
      "3983.822592\n",
      "0.5000559\n"
     ]
    }
   ],
   "source": [
    "mong_khet_circle = get_circle_with_radius(99.38, 21.72, 3412e3, resolution=64)\n",
    "mk_circle_population = get_population_in_shape(mong_khet_circle) \n",
    "print(mk_circle_population / 1e6)\n",
    "print(mk_circle_population / total_population)"
   ]
  },
  {
   "cell_type": "markdown",
   "id": "feb06962-3860-4f47-9d8d-a01b1d07a68f",
   "metadata": {},
   "source": [
    "That my circle needs to be a bit bigger could be related to the particular dataset I used. \n",
    "\n",
    "Based on these tools, a good next step could be to use an optimisation algorithm to try and determine the exact location and radius where we can find the smallest circle that covers 50 percent of the Earth's population. \n",
    "\n",
    "# Population data attribution\n",
    "WorldPop (www.worldpop.org - School of Geography and Environmental Science, University of Southampton; Department of Geography and Geosciences, University of Louisville; Departement de Geographie, Universite de Namur) and Center for International Earth Science Information Network (CIESIN), Columbia University (2018). Global High Resolution Population Denominators Project - Funded by The Bill and Melinda Gates Foundation (OPP1134076). https://dx.doi.org/10.5258/SOTON/WP00647"
   ]
  }
 ],
 "metadata": {
  "kernelspec": {
   "display_name": "Python 3 (ipykernel)",
   "language": "python",
   "name": "python3"
  },
  "language_info": {
   "codemirror_mode": {
    "name": "ipython",
    "version": 3
   },
   "file_extension": ".py",
   "mimetype": "text/x-python",
   "name": "python",
   "nbconvert_exporter": "python",
   "pygments_lexer": "ipython3",
   "version": "3.9.7"
  }
 },
 "nbformat": 4,
 "nbformat_minor": 5
}
